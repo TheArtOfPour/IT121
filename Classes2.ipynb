{
 "cells": [
  {
   "cell_type": "code",
   "execution_count": 1,
   "metadata": {
    "collapsed": true
   },
   "outputs": [],
   "source": [
    "import time\n",
    "\n",
    "class Animal:\n",
    "    \n",
    "    animalNumber = 0\n",
    "    \n",
    "    # __init__ runs when an Animal is constructed\n",
    "    # Length is in feet\n",
    "    def __init__(self, species, name):\n",
    "        Animal.animalNumber += 1\n",
    "        self.id = Animal.animalNumber\n",
    "        self.species = species\n",
    "        self.name = name\n",
    "        self.last_feeding = False\n",
    "        \n",
    "    def display(self):\n",
    "        print(\"\\n\\tSubject: %s\" % self.name)\n",
    "        print(\"\\tID: %d\" % self.id)\n",
    "        print(\"\\tSpecies: %s\" % self.species)\n",
    "        if self.last_feeding:\n",
    "            print(\"\\tLast Feeding: %s\" % self.last_feeding)\n",
    "        else:\n",
    "            print(\"\\tNever Fed :(\")\n",
    "        \n",
    "    def feed(self):\n",
    "        self.last_feeding = time.ctime()"
   ]
  },
  {
   "cell_type": "code",
   "execution_count": 6,
   "metadata": {
    "collapsed": false
   },
   "outputs": [
    {
     "name": "stdout",
     "output_type": "stream",
     "text": [
      "Which dog do you want to pet? Kujo\n",
      "How long? 5\n",
      "Benji is 2 happy!\n",
      "Barky is 22 happy!\n",
      "Kujo is 6 happy!\n",
      "Which dog do you want to pet? Benji\n",
      "How long? 5\n",
      "Benji is 7 happy!\n",
      "Barky is 20 happy!\n",
      "Kujo is 3 happy!\n",
      "Which dog do you want to pet? Kujo\n",
      "How long? 6\n",
      "Benji is 4 happy!\n",
      "Barky is 17 happy!\n",
      "Kujo is 9 happy!\n",
      "Which dog do you want to pet? Benji\n",
      "How long? 8\n",
      "Benji is 12 happy!\n",
      "Barky is 13 happy!\n",
      "Kujo is 5 happy!\n",
      "Which dog do you want to pet? Kujo\n",
      "How long? 11\n",
      "Benji is 7 happy!\n",
      "Barky is 7 happy!\n",
      "Kujo is 16 happy!\n",
      "Which dog do you want to pet? run\n",
      "You throw a smoke bomb and disappear. \n"
     ]
    }
   ],
   "source": [
    "class Canine(Animal):\n",
    "    \n",
    "    def __init__(self, species, name, happiness, breed):\n",
    "        self.happiness = happiness\n",
    "        self.breed = breed\n",
    "        Animal.__init__(self, species, name)\n",
    "        \n",
    "    def pet(self, length):\n",
    "        self.happiness += length\n",
    "        \n",
    "    def wait(self, length):\n",
    "        self.happiness -= length/2\n",
    "        \n",
    "    def display(self):\n",
    "        print(\"%s is %d happy!\" % (self.name, self.happiness))\n",
    "        \n",
    "benji = Canine('canine', 'Benji', 5, 'Pomeranian')\n",
    "barky = Canine('canine', 'Barky', 25, 'Rhodesian Ridgeback')\n",
    "kujo = Canine('canine', 'Kujo', 1, 'Demon')\n",
    "\n",
    "while True:\n",
    "    dog = input(\"Which dog do you want to pet? \")\n",
    "    if dog == \"run\" :\n",
    "        print(\"You throw a smoke bomb and disappear. \")\n",
    "        break\n",
    "    length = int(input(\"How long? \"))\n",
    "    if dog == \"Benji\" :\n",
    "        benji.pet(length)\n",
    "        barky.wait(length)\n",
    "        kujo.wait(length)\n",
    "    elif dog == \"Barky\" :\n",
    "        barky.pet(length)\n",
    "        benji.wait(length)\n",
    "        kujo.wait(length)\n",
    "    elif dog == \"Kujo\" :\n",
    "        kujo.pet(length)\n",
    "        benji.wait(length)\n",
    "        barky.wait(length)\n",
    "    else :\n",
    "        print(\"That's not one of the dogs\")\n",
    "        continue\n",
    "\n",
    "    benji.display()\n",
    "    barky.display()\n",
    "    kujo.display()\n",
    "    if benji.happiness < 0 :\n",
    "        print(\"Benji pees on your shoes. \")\n",
    "    if barky.happiness < 0 :\n",
    "        print(\"Barky gives you tinnitus. \")\n",
    "    if kujo.happiness < 0 :\n",
    "        print(\"Kujo cut the power.... \")"
   ]
  },
  {
   "cell_type": "code",
   "execution_count": 3,
   "metadata": {
    "collapsed": false
   },
   "outputs": [
    {
     "name": "stdout",
     "output_type": "stream",
     "text": [
      "(A)dd (R)emove (L)ookup (F)eed (Q)uitq\n",
      "(A)dd (R)emove (L)ookup (F)eed (Q)uitQ\n",
      "Goodbye!\n"
     ]
    }
   ],
   "source": [
    "# getAnimal will ask user for animal information and return an Animal object\n",
    "def getAnimal():\n",
    "    name = input(\"\\n\\tName: \")\n",
    "    species = input(\"\\tSpecies: \")\n",
    "    animal = Animal(species, name)\n",
    "    print(\"\\tAnimal Created, ID: %d\" % animal.id)\n",
    "    return animal\n",
    "\n",
    "registry = {}\n",
    "\n",
    "# main program loop\n",
    "while True:\n",
    "    cmd = input(\"(A)dd (R)emove (L)ookup (F)eed (Q)uit\")\n",
    "    if cmd == \"Q\":\n",
    "        print(\"Goodbye!\")\n",
    "        break\n",
    "    if cmd == \"A\":\n",
    "        animal = getAnimal()\n",
    "        registry[animal.id] = animal\n",
    "    if cmd == \"L\":\n",
    "        id = int(input(\"\\tInput ID: \"))\n",
    "        if not id in registry:\n",
    "            print(\"\\tAnimal ID %d Not Found!\" % id)\n",
    "            continue\n",
    "        registry[id].display()\n",
    "    if cmd == \"R\":\n",
    "        id = int(input(\"\\tInput ID: \"))\n",
    "        del registry[id]\n",
    "        print(\"\\tAnimal ID %d Deleted!\" % id)\n",
    "    if cmd == \"F\":\n",
    "        id = int(input(\"\\tInput ID: \"))\n",
    "        registry[id].feed()\n",
    "        print(\"\\tAnimal ID %d Fed!\" % id)\n",
    "        \n",
    "    \n"
   ]
  }
 ],
 "metadata": {
  "kernelspec": {
   "display_name": "Python 3",
   "language": "python",
   "name": "python3"
  },
  "language_info": {
   "codemirror_mode": {
    "name": "ipython",
    "version": 3
   },
   "file_extension": ".py",
   "mimetype": "text/x-python",
   "name": "python",
   "nbconvert_exporter": "python",
   "pygments_lexer": "ipython3",
   "version": "3.6.0"
  }
 },
 "nbformat": 4,
 "nbformat_minor": 2
}
