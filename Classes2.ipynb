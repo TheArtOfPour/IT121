{
 "cells": [
  {
   "cell_type": "code",
   "execution_count": null,
   "metadata": {
    "collapsed": true
   },
   "outputs": [],
   "source": [
    "import time\n",
    "\n",
    "class Animal:\n",
    "    \n",
    "    animalNumber = 0\n",
    "    \n",
    "    # __init__ runs when an Animal is constructed\n",
    "    # Length is in feet\n",
    "    def __init__(self, species, length, diet, color, name):\n",
    "        Animal.animalNumber += 1\n",
    "        self.id = Animal.animalNumber\n",
    "        self.species = species\n",
    "        self.length = length\n",
    "        self.diet = diet\n",
    "        self.color = color\n",
    "        self.name = name\n",
    "        self.last_feeding = False\n",
    "        \n",
    "    def display(self):\n",
    "        print(\"\\n\\tSubject: %s\" % self.name)\n",
    "        print(\"\\tID: %d\" % self.id)\n",
    "        print(\"\\tSpecies: %s\" % self.species)\n",
    "        print(\"\\tLength: %d\" % self.length)\n",
    "        print(\"\\tDiet: %s\" % self.diet)\n",
    "        print(\"\\tColor: %s\" % self.color)\n",
    "        if self.last_feeding:\n",
    "            print(\"\\tLast Feeding: %s\" % self.last_feeding)\n",
    "        else:\n",
    "            print(\"\\tNever Fed :(\")\n",
    "        \n",
    "    def feed(self):\n",
    "        self.last_feeding = time.ctime()"
   ]
  },
  {
   "cell_type": "code",
   "execution_count": null,
   "metadata": {
    "collapsed": false
   },
   "outputs": [
    {
     "name": "stdout",
     "output_type": "stream",
     "text": [
      "(A)dd (R)emove (L)ookup (F)eed (Q)uitA\n",
      "\n",
      "\tName: Buzz\n",
      "\tLength: 1\n",
      "\tDiet: O's\n",
      "\tColor: Orange\n",
      "\tSpecies: Bee\n",
      "\tAnimal Created, ID: 1\n",
      "(A)dd (R)emove (L)ookup (F)eed (Q)uitF\n",
      "\tInput ID: 1\n",
      "\tAnimal ID 1 Fed!\n",
      "(A)dd (R)emove (L)ookup (F)eed (Q)uitL\n",
      "\tInput ID: 1\n",
      "\n",
      "\tSubject: Buzz\n",
      "\tID: 1\n",
      "\tSpecies: Bee\n",
      "\tLength: 1\n",
      "\tDiet: O's\n",
      "\tColor: Orange\n",
      "\tLast Feeding: Wed Feb 28 14:15:59 2018\n"
     ]
    }
   ],
   "source": [
    "# getAnimal will ask user for animal information and return an Animal object\n",
    "def getAnimal():\n",
    "    name = input(\"\\n\\tName: \")\n",
    "    length = int(input(\"\\tLength: \"))\n",
    "    diet = input(\"\\tDiet: \")\n",
    "    color = input(\"\\tColor: \")\n",
    "    species = input(\"\\tSpecies: \")\n",
    "    animal = Animal(species, length, diet, color, name)\n",
    "    print(\"\\tAnimal Created, ID: %d\" % animal.id)\n",
    "    return animal\n",
    "\n",
    "registry = {}\n",
    "\n",
    "# main program loop\n",
    "while True:\n",
    "    cmd = input(\"(A)dd (R)emove (L)ookup (F)eed (Q)uit\")\n",
    "    if cmd == \"Q\":\n",
    "        print(\"Goodbye!\")\n",
    "        break\n",
    "    if cmd == \"A\":\n",
    "        animal = getAnimal()\n",
    "        registry[animal.id] = animal\n",
    "    if cmd == \"L\":\n",
    "        id = int(input(\"\\tInput ID: \"))\n",
    "        if not id in registry:\n",
    "            print(\"\\tAnimal ID %d Not Found!\" % id)\n",
    "            continue\n",
    "        registry[id].display()\n",
    "    if cmd == \"R\":\n",
    "        id = int(input(\"\\tInput ID: \"))\n",
    "        del registry[id]\n",
    "        print(\"\\tAnimal ID %d Deleted!\" % id)\n",
    "    if cmd == \"F\":\n",
    "        id = int(input(\"\\tInput ID: \"))\n",
    "        registry[id].feed()\n",
    "        print(\"\\tAnimal ID %d Fed!\" % id)\n",
    "        \n",
    "    \n"
   ]
  }
 ],
 "metadata": {
  "kernelspec": {
   "display_name": "Python 3",
   "language": "python",
   "name": "python3"
  },
  "language_info": {
   "codemirror_mode": {
    "name": "ipython",
    "version": 3
   },
   "file_extension": ".py",
   "mimetype": "text/x-python",
   "name": "python",
   "nbconvert_exporter": "python",
   "pygments_lexer": "ipython3",
   "version": "3.6.0"
  }
 },
 "nbformat": 4,
 "nbformat_minor": 2
}
