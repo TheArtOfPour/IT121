{
 "cells": [
  {
   "cell_type": "code",
   "execution_count": 2,
   "metadata": {
    "collapsed": false
   },
   "outputs": [
    {
     "name": "stdout",
     "output_type": "stream",
     "text": [
      "After this quarter I want to go into a medically induced coma\n"
     ]
    }
   ],
   "source": [
    "def myHopesAndDreams():\n",
    "    print(\"After this quarter I want to %s\" % \"go into a medically induced coma\")\n",
    "\n",
    "myHopesAndDreams()"
   ]
  },
  {
   "cell_type": "code",
   "execution_count": 3,
   "metadata": {
    "collapsed": false
   },
   "outputs": [
    {
     "name": "stdout",
     "output_type": "stream",
     "text": [
      "6 x 20 = 120\n"
     ]
    }
   ],
   "source": [
    "def mult(n1, n2):\n",
    "    print(\"%d x %d = %d\" % (n1, n2, n1*n2))\n",
    "    \n",
    "mult(6, 20)"
   ]
  },
  {
   "cell_type": "code",
   "execution_count": 4,
   "metadata": {
    "collapsed": false
   },
   "outputs": [
    {
     "name": "stdout",
     "output_type": "stream",
     "text": [
      "The result is 120, my dear Watson\n"
     ]
    }
   ],
   "source": [
    "def mult(n1, n2):\n",
    "    return n1*n2\n",
    "    \n",
    "result = mult(6, 20)\n",
    "print(\"The result is %d, my dear Watson\" % result)"
   ]
  },
  {
   "cell_type": "code",
   "execution_count": 8,
   "metadata": {
    "collapsed": false
   },
   "outputs": [
    {
     "name": "stdout",
     "output_type": "stream",
     "text": [
      "BoM balance is 1337.\n",
      "Thanks for the referral, your balance is now 1347\n"
     ]
    }
   ],
   "source": [
    "class BankAccount:\n",
    "    def __init__(self,name,amount):\n",
    "        self.name = name\n",
    "        self.balance = amount\n",
    "\n",
    "    def withdraw(self, amount):\n",
    "        self.balance -= amount\n",
    "        return self.balance\n",
    "\n",
    "    def deposit(self, amount):\n",
    "        self.balance += amount\n",
    "        return self.balance\n",
    "\n",
    "    def statement(self):\n",
    "        print(\"%s balance is %s.\" % (self.name, self.balance))\n",
    "\n",
    "    def transfer(self, toAccount, amount):\n",
    "        self.balance = self.balance - amount\n",
    "        toAccount.balance = toAccount.balance + amount\n",
    "        \n",
    "    def referral(self):\n",
    "        self.balance += 10\n",
    "        print(\"Thanks for the referral, your balance is now %d\" % self.balance)\n",
    "\n",
    "# This is how we construct a bank account\n",
    "bankOfMoney = BankAccount('BoM', 1337)\n",
    "\n",
    "# __init__ is called every time a bank account is constructed\n",
    "\n",
    "# print a statement using the class method \"statement\"\n",
    "bankOfMoney.statement()\n",
    "\n",
    "# get a referral bonus\n",
    "bankOfMoney.referral()"
   ]
  },
  {
   "cell_type": "code",
   "execution_count": null,
   "metadata": {
    "collapsed": true
   },
   "outputs": [],
   "source": [
    "5) A\n",
    "-x = left, +x = right\n",
    "-y = up, +y = down"
   ]
  },
  {
   "cell_type": "code",
   "execution_count": 23,
   "metadata": {
    "collapsed": false
   },
   "outputs": [
    {
     "ename": "TclError",
     "evalue": "invalid command name \".!canvas\"",
     "output_type": "error",
     "traceback": [
      "\u001b[0;31m---------------------------------------------------------------------------\u001b[0m",
      "\u001b[0;31mTclError\u001b[0m                                  Traceback (most recent call last)",
      "\u001b[0;32m<ipython-input-23-8eeddde72c89>\u001b[0m in \u001b[0;36m<module>\u001b[0;34m()\u001b[0m\n\u001b[1;32m     23\u001b[0m \u001b[0mwarp_factor\u001b[0m \u001b[1;33m=\u001b[0m \u001b[1;36m1\u001b[0m\u001b[1;33m\u001b[0m\u001b[0m\n\u001b[1;32m     24\u001b[0m \u001b[1;32mwhile\u001b[0m \u001b[1;32mTrue\u001b[0m\u001b[1;33m:\u001b[0m\u001b[1;33m\u001b[0m\u001b[0m\n\u001b[0;32m---> 25\u001b[0;31m     \u001b[0mFalcon\u001b[0m\u001b[1;33m.\u001b[0m\u001b[0mfly_NE\u001b[0m\u001b[1;33m(\u001b[0m\u001b[0mwarp_factor\u001b[0m\u001b[1;33m)\u001b[0m\u001b[1;33m\u001b[0m\u001b[0m\n\u001b[0m\u001b[1;32m     26\u001b[0m     \u001b[0mtk\u001b[0m\u001b[1;33m.\u001b[0m\u001b[0mupdate_idletasks\u001b[0m\u001b[1;33m(\u001b[0m\u001b[1;33m)\u001b[0m\u001b[1;33m\u001b[0m\u001b[0m\n\u001b[1;32m     27\u001b[0m     \u001b[0mtk\u001b[0m\u001b[1;33m.\u001b[0m\u001b[0mupdate\u001b[0m\u001b[1;33m(\u001b[0m\u001b[1;33m)\u001b[0m\u001b[1;33m\u001b[0m\u001b[0m\n",
      "\u001b[0;32m<ipython-input-23-8eeddde72c89>\u001b[0m in \u001b[0;36mfly_NE\u001b[0;34m(self, factor)\u001b[0m\n\u001b[1;32m     16\u001b[0m \u001b[1;33m\u001b[0m\u001b[0m\n\u001b[1;32m     17\u001b[0m     \u001b[1;32mdef\u001b[0m \u001b[0mfly_NE\u001b[0m\u001b[1;33m(\u001b[0m\u001b[0mself\u001b[0m\u001b[1;33m,\u001b[0m \u001b[0mfactor\u001b[0m\u001b[1;33m)\u001b[0m\u001b[1;33m:\u001b[0m\u001b[1;33m\u001b[0m\u001b[0m\n\u001b[0;32m---> 18\u001b[0;31m         \u001b[0mself\u001b[0m\u001b[1;33m.\u001b[0m\u001b[0mcanvas\u001b[0m\u001b[1;33m.\u001b[0m\u001b[0mmove\u001b[0m\u001b[1;33m(\u001b[0m\u001b[0mself\u001b[0m\u001b[1;33m.\u001b[0m\u001b[0mid\u001b[0m\u001b[1;33m,\u001b[0m \u001b[0mfactor\u001b[0m\u001b[1;33m,\u001b[0m \u001b[1;33m-\u001b[0m\u001b[1;36m1\u001b[0m\u001b[1;33m*\u001b[0m\u001b[0mfactor\u001b[0m\u001b[1;33m)\u001b[0m\u001b[1;33m\u001b[0m\u001b[0m\n\u001b[0m\u001b[1;32m     19\u001b[0m \u001b[1;33m\u001b[0m\u001b[0m\n\u001b[1;32m     20\u001b[0m \u001b[0mmyImage\u001b[0m \u001b[1;33m=\u001b[0m \u001b[0mPhotoImage\u001b[0m\u001b[1;33m(\u001b[0m\u001b[0mfile\u001b[0m\u001b[1;33m=\u001b[0m\u001b[1;34m\"assets/falcon.gif\"\u001b[0m\u001b[1;33m)\u001b[0m\u001b[1;33m\u001b[0m\u001b[0m\n",
      "\u001b[0;32mC:\\Users\\justi\\Anaconda3\\lib\\tkinter\\__init__.py\u001b[0m in \u001b[0;36mmove\u001b[0;34m(self, *args)\u001b[0m\n\u001b[1;32m   2583\u001b[0m     \u001b[1;32mdef\u001b[0m \u001b[0mmove\u001b[0m\u001b[1;33m(\u001b[0m\u001b[0mself\u001b[0m\u001b[1;33m,\u001b[0m \u001b[1;33m*\u001b[0m\u001b[0margs\u001b[0m\u001b[1;33m)\u001b[0m\u001b[1;33m:\u001b[0m\u001b[1;33m\u001b[0m\u001b[0m\n\u001b[1;32m   2584\u001b[0m         \u001b[1;34m\"\"\"Move an item TAGORID given in ARGS.\"\"\"\u001b[0m\u001b[1;33m\u001b[0m\u001b[0m\n\u001b[0;32m-> 2585\u001b[0;31m         \u001b[0mself\u001b[0m\u001b[1;33m.\u001b[0m\u001b[0mtk\u001b[0m\u001b[1;33m.\u001b[0m\u001b[0mcall\u001b[0m\u001b[1;33m(\u001b[0m\u001b[1;33m(\u001b[0m\u001b[0mself\u001b[0m\u001b[1;33m.\u001b[0m\u001b[0m_w\u001b[0m\u001b[1;33m,\u001b[0m \u001b[1;34m'move'\u001b[0m\u001b[1;33m)\u001b[0m \u001b[1;33m+\u001b[0m \u001b[0margs\u001b[0m\u001b[1;33m)\u001b[0m\u001b[1;33m\u001b[0m\u001b[0m\n\u001b[0m\u001b[1;32m   2586\u001b[0m     \u001b[1;32mdef\u001b[0m \u001b[0mpostscript\u001b[0m\u001b[1;33m(\u001b[0m\u001b[0mself\u001b[0m\u001b[1;33m,\u001b[0m \u001b[0mcnf\u001b[0m\u001b[1;33m=\u001b[0m\u001b[1;33m{\u001b[0m\u001b[1;33m}\u001b[0m\u001b[1;33m,\u001b[0m \u001b[1;33m**\u001b[0m\u001b[0mkw\u001b[0m\u001b[1;33m)\u001b[0m\u001b[1;33m:\u001b[0m\u001b[1;33m\u001b[0m\u001b[0m\n\u001b[1;32m   2587\u001b[0m         \"\"\"Print the contents of the canvas to a postscript\n",
      "\u001b[0;31mTclError\u001b[0m: invalid command name \".!canvas\""
     ]
    }
   ],
   "source": [
    "from tkinter import *\n",
    "import time\n",
    "\n",
    "tk = Tk()\n",
    "tk.title(\"StarGame\")\n",
    "tk.resizable(0,0)\n",
    "tk.wm_attributes(\"-topmost\",1)\n",
    "canvas = Canvas(tk, width=900, height=700, bd=0, bg=\"hot pink\", highlightthickness=0)\n",
    "canvas.pack()\n",
    "tk.update()\n",
    "\n",
    "class Ship:\n",
    "    def __init__(self, canvas, myImage, xpos, ypos):\n",
    "        self.canvas = canvas\n",
    "        self.id = canvas.create_image(xpos, ypos, anchor=NW, image=myImage) \n",
    "\n",
    "    def fly_NE(self, factor):\n",
    "        self.canvas.move(self.id, factor, -1*factor)\n",
    "\n",
    "myImage = PhotoImage(file=\"assets/falcon.gif\")\n",
    "Falcon = Ship(canvas, myImage, 200, 600)\n",
    "\n",
    "warp_factor = 1\n",
    "while True:\n",
    "    Falcon.fly_NE(warp_factor)\n",
    "    tk.update_idletasks()\n",
    "    tk.update()\n",
    "    # to make the game go 2x as fast, sleep for half as long\n",
    "    time.sleep(0.005)\n",
    "    warp_factor *= 1.02"
   ]
  }
 ],
 "metadata": {
  "kernelspec": {
   "display_name": "Python 3",
   "language": "python",
   "name": "python3"
  },
  "language_info": {
   "codemirror_mode": {
    "name": "ipython",
    "version": 3
   },
   "file_extension": ".py",
   "mimetype": "text/x-python",
   "name": "python",
   "nbconvert_exporter": "python",
   "pygments_lexer": "ipython3",
   "version": "3.6.0"
  }
 },
 "nbformat": 4,
 "nbformat_minor": 2
}
