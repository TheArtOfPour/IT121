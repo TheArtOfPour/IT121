{
 "cells": [
  {
   "cell_type": "code",
   "execution_count": 6,
   "metadata": {
    "collapsed": false
   },
   "outputs": [
    {
     "name": "stdout",
     "output_type": "stream",
     "text": [
      "Are there zombonies?yup\n",
      "Oh no!\n",
      "\n",
      "How many?1000000000\n",
      "Ruuuuuuuuuuuuuuuuuuuuuuuuuuuuuuuuuuuuuuuuuuuuuuuuuuuuuuuuuuuuuuuuuuuuuuuuuuuuun\n",
      "\n",
      "Alright, inventory check. We have 4 weapons left\n"
     ]
    }
   ],
   "source": [
    "zombies_present = False\n",
    "zombie_count = 0\n",
    "available_weapons = [\"butterknife\", \"fork\", \"spoon\", \"165hp Husquavarna Chainsaw\"]\n",
    "affirmations = [\"uhhuh\", \"yes\", \"yeah\", \"yup\", \"sure\", \"roger\", \"ubetcha\", \"covfefe\"]\n",
    "\n",
    "# Scout report\n",
    "zombies_present_str = input(\"Are there zombonies?\")\n",
    "zombies_present = zombies_present_str in affirmations\n",
    "if zombies_present:\n",
    "    print(\"Oh no!\\n\")\n",
    "    zombie_count = int(input(\"How many?\"))\n",
    "\n",
    "# Formulate a plan\n",
    "if not zombies_present:\n",
    "    print(\"Phew! Let's work on the base\")\n",
    "else:\n",
    "    # not changes True to False and vice-a-versa\n",
    "    # and will return True only if both sides are True\n",
    "    # or will return True as long as at least one side is True\n",
    "    if zombie_count < 500 and len(available_weapons) > 0:\n",
    "        print(\"Alright, let us battle with our might %s!\" % available_weapons[0])\n",
    "        del available_weapons[0]\n",
    "    elif zombie_count < 1000 and len(available_weapons) > 1:\n",
    "        print(\"Hark, a mighty battle with our %s and %s!\" % (available_weapons[0], available_weapons[1],))\n",
    "        del available_weapons[0]\n",
    "        del available_weapons[0]\n",
    "    elif zombie_count < 5000 and len(available_weapons) > 3:\n",
    "        print(\"Avast, let us sharpen our %s, %s, %s and %s and bathe in zombie blood!\" % (available_weapons[0], available_weapons[1], available_weapons[2],available_weapons[3],))\n",
    "        del available_weapons[0]\n",
    "        del available_weapons[0]\n",
    "        del available_weapons[0]\n",
    "        del available_weapons[0]\n",
    "    else:\n",
    "        print(\"Ruuuuuuuuuuuuuuuuuuuuuuuuuuuuuuuuuuuuu%suuuuuuuuuuuun\\n\" % \"uuuuuuuuuuuuuuuuuuuuuuuuuuuu\")\n",
    "\n",
    "if not len(available_weapons):\n",
    "    print(\"We are soooooo screwed Scoob. Zoinks!\")\n",
    "else:\n",
    "    print(\"Alright, inventory check. We have %d weapons left.\" % len(available_weapons))\n",
    "    \n"
   ]
  }
 ],
 "metadata": {
  "kernelspec": {
   "display_name": "Python 3",
   "language": "python",
   "name": "python3"
  },
  "language_info": {
   "codemirror_mode": {
    "name": "ipython",
    "version": 3
   },
   "file_extension": ".py",
   "mimetype": "text/x-python",
   "name": "python",
   "nbconvert_exporter": "python",
   "pygments_lexer": "ipython3",
   "version": "3.6.0"
  }
 },
 "nbformat": 4,
 "nbformat_minor": 2
}
