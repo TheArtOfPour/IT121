{
 "cells": [
  {
   "cell_type": "code",
   "execution_count": 19,
   "metadata": {
    "collapsed": false
   },
   "outputs": [
    {
     "name": "stdout",
     "output_type": "stream",
     "text": [
      "Hello Peeple\n",
      "What is the meaning of life?42\n",
      "You are correct\n"
     ]
    }
   ],
   "source": [
    "# This is how to use the print function\n",
    "'''\n",
    "now \n",
    "i \n",
    "can \n",
    "make \n",
    "a \n",
    "multiline comment\n",
    "'''\n",
    "print(\"Hello Peeple\")\n",
    "\n",
    "# + - * / ** // %\n",
    "\n",
    "#input takes a string as a parameter and prints that out for the user\n",
    "num42 = int(input(\"What is the meaning of life?\"))\n",
    "\n",
    "if num42 == 42:\n",
    "    print(\"You are correct\")\n",
    "else:\n",
    "    print(\"Oh, you think that %s is the meaning of life? \" % num42)\n",
    "    print(\"Really? \", num42, \" is the meaning of life\")\n",
    "\n",
    "\n"
   ]
  }
 ],
 "metadata": {
  "kernelspec": {
   "display_name": "Python 3",
   "language": "python",
   "name": "python3"
  },
  "language_info": {
   "codemirror_mode": {
    "name": "ipython",
    "version": 3
   },
   "file_extension": ".py",
   "mimetype": "text/x-python",
   "name": "python",
   "nbconvert_exporter": "python",
   "pygments_lexer": "ipython3",
   "version": "3.6.0"
  }
 },
 "nbformat": 4,
 "nbformat_minor": 2
}
