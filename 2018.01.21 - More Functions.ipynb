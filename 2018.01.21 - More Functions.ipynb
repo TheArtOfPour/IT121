{
 "cells": [
  {
   "cell_type": "code",
   "execution_count": null,
   "metadata": {
    "collapsed": false
   },
   "outputs": [
    {
     "name": "stdout",
     "output_type": "stream",
     "text": [
      "Player 1 starts X\n",
      "Which row? (1-3)1\n",
      "Which col? (1-3)1\n",
      "\n",
      "\n",
      "X| | \n",
      "-+-+-\n",
      " | | \n",
      "-+-+-\n",
      " | | \n",
      "\n",
      "Which row? (1-3)2\n",
      "Which col? (1-3)2\n",
      "\n",
      "\n",
      "X| | \n",
      "-+-+-\n",
      " |X| \n",
      "-+-+-\n",
      " | | \n",
      "\n",
      "Which row? (1-3)3\n",
      "Which col? (1-3)3\n",
      "\n",
      "\n",
      "X| | \n",
      "-+-+-\n",
      " |X| \n",
      "-+-+-\n",
      " | |X\n",
      "\n"
     ]
    }
   ],
   "source": [
    "# @todo: get board_size from user input\n",
    "import random\n",
    "board_size = 3\n",
    "board = []\n",
    "tokens = ['X', 'O']\n",
    "player = random.randint(0, 1)\n",
    "print(\"Player %d starts %s\" % ((player+1), tokens[player]))\n",
    "\n",
    "def buildBoard():\n",
    "    for _ in range(board_size):\n",
    "        new_column = []\n",
    "        for _ in range(board_size):\n",
    "            new_column.append(' ')\n",
    "        board.append(new_column)\n",
    "\n",
    "def drawBoard():\n",
    "    print(\"\\n\")\n",
    "    for i, col in enumerate(board):\n",
    "        for j, cell in enumerate(col):\n",
    "            print(cell, end='')\n",
    "            if j < len(col) - 1:\n",
    "                print('|', end='')\n",
    "        if i < len(board) - 1:\n",
    "            print('\\n-+-+-')\n",
    "    print(\"\\n\")\n",
    "\n",
    "def move(row, col, token):\n",
    "    if board[row][col] == ' ':\n",
    "        board[row][col] = token\n",
    "        return True\n",
    "    return False\n",
    "\n",
    "# @todo : check for winner\n",
    "    \n",
    "buildBoard()\n",
    "game_over = False\n",
    "while not game_over:\n",
    "    row = int(input(\"Which row? (1-%d)\" % board_size))-1\n",
    "    if row == -1:\n",
    "        break\n",
    "    col = int(input(\"Which col? (1-%d)\" % board_size))-1\n",
    "    token = tokens[player]\n",
    "    success = move(row, col, token)\n",
    "    if not success:\n",
    "        print(\"Invalid move\\n\")\n",
    "        continue\n",
    "    drawBoard()"
   ]
  }
 ],
 "metadata": {
  "kernelspec": {
   "display_name": "Python 3",
   "language": "python",
   "name": "python3"
  },
  "language_info": {
   "codemirror_mode": {
    "name": "ipython",
    "version": 3
   },
   "file_extension": ".py",
   "mimetype": "text/x-python",
   "name": "python",
   "nbconvert_exporter": "python",
   "pygments_lexer": "ipython3",
   "version": "3.6.0"
  }
 },
 "nbformat": 4,
 "nbformat_minor": 2
}
