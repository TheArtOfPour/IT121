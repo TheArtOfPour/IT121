{
 "cells": [
  {
   "cell_type": "code",
   "execution_count": 2,
   "metadata": {
    "collapsed": false
   },
   "outputs": [
    {
     "name": "stdout",
     "output_type": "stream",
     "text": [
      "0\n",
      "1\n",
      "2\n",
      "3\n",
      "4\n",
      "9\n",
      "8\n",
      "7\n",
      "6\n",
      "5\n",
      "4\n",
      "3\n",
      "2\n",
      "1\n",
      "0\n",
      "Blastoff!\n"
     ]
    }
   ],
   "source": [
    "# for - iterator\n",
    "# while - condition\n",
    "\n",
    "for x in range(0, 5):\n",
    "    print(x)\n",
    "    \n",
    "#countdown for our Screaming Python\n",
    "import time\n",
    "for x in reversed(range(0, 10)):\n",
    "    time.sleep(1)\n",
    "    print(x)\n",
    "print(\"Blastoff!\")"
   ]
  },
  {
   "cell_type": "code",
   "execution_count": 3,
   "metadata": {
    "collapsed": false
   },
   "outputs": [
    {
     "name": "stdout",
     "output_type": "stream",
     "text": [
      "sleepy bird\n",
      "sleepy cookie\n",
      "sleepy Bob Ross\n",
      "sleepy bush\n",
      "sleepy Harrier Jump Jet\n",
      "sleepy squirrel\n",
      "brown bird\n",
      "brown cookie\n",
      "brown Bob Ross\n",
      "brown bush\n",
      "brown Harrier Jump Jet\n",
      "brown squirrel\n",
      "cromulent bird\n",
      "cromulent cookie\n",
      "cromulent Bob Ross\n",
      "cromulent bush\n",
      "cromulent Harrier Jump Jet\n",
      "cromulent squirrel\n",
      "illegal bird\n",
      "illegal cookie\n",
      "illegal Bob Ross\n",
      "illegal bush\n",
      "illegal Harrier Jump Jet\n",
      "illegal squirrel\n",
      "medical bird\n",
      "medical cookie\n",
      "medical Bob Ross\n",
      "medical bush\n",
      "medical Harrier Jump Jet\n",
      "medical squirrel\n",
      "secret bird\n",
      "secret cookie\n",
      "secret Bob Ross\n",
      "secret bush\n",
      "secret Harrier Jump Jet\n",
      "secret squirrel\n"
     ]
    }
   ],
   "source": [
    "adjectives = [\"sleepy\", \"brown\", \"cromulent\", \"illegal\", \"medical\", \"secret\"]\n",
    "nouns = [\"bird\", \"cookie\", \"Bob Ross\", \"bush\", \"Harrier Jump Jet\", \"squirrel\"]\n",
    "\n",
    "for adjective in adjectives:\n",
    "    for noun in nouns:\n",
    "        print(\"%s %s\" % (adjective, noun))"
   ]
  },
  {
   "cell_type": "code",
   "execution_count": 6,
   "metadata": {
    "collapsed": false
   },
   "outputs": [
    {
     "name": "stdout",
     "output_type": "stream",
     "text": [
      "Oh a Salad fork? How Pretentious!\n",
      "Oh a Dinner fork? How Polite!\n",
      "Oh a Dessert fork? How Delicious!\n",
      "Salad\n",
      "Pretentious\n",
      "Dinner\n",
      "Polite\n",
      "Dessert\n",
      "Delicious\n"
     ]
    }
   ],
   "source": [
    "forks = {\n",
    "    \"Salad\" : \"Pretentious\",\n",
    "    \"Dinner\" : \"Polite\",\n",
    "    \"Dessert\" : \"Delicious\"\n",
    "}\n",
    "for key, value in forks.items():\n",
    "    print(\"Oh a %s fork? How %s!\" % (key, value))\n",
    "    \n",
    "for key in forks:\n",
    "    print(\"Oh a %s fork? How %s!\" % (key, forks[key]))"
   ]
  }
 ],
 "metadata": {
  "kernelspec": {
   "display_name": "Python 3",
   "language": "python",
   "name": "python3"
  },
  "language_info": {
   "codemirror_mode": {
    "name": "ipython",
    "version": 3
   },
   "file_extension": ".py",
   "mimetype": "text/x-python",
   "name": "python",
   "nbconvert_exporter": "python",
   "pygments_lexer": "ipython3",
   "version": "3.6.0"
  }
 },
 "nbformat": 4,
 "nbformat_minor": 2
}
