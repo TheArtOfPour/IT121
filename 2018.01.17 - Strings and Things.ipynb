{
 "cells": [
  {
   "cell_type": "code",
   "execution_count": 20,
   "metadata": {
    "collapsed": false
   },
   "outputs": [
    {
     "name": "stdout",
     "output_type": "stream",
     "text": [
      "i'm a \"string\"\n",
      "\n",
      "\n",
      "i'm a \n",
      " \"str\ting\"\n",
      "\n",
      "\n",
      "i'm a \n",
      "\"string\"\n",
      "turducken\n",
      "\n",
      "tur!duck!en\n",
      "Welcome to Bellingham, the current weather is washingtonian and the current time is 1. Humidity 7.2\n"
     ]
    }
   ],
   "source": [
    "#pro tip: press shift+tab to show function signature\n",
    "\n",
    "print('i\\'m a \"string\"\\n\\n')\n",
    "\n",
    "#\\n = newline \\t = tab\n",
    "print(\"i'm a \\n \\\"str\\ting\\\"\\n\\n\")\n",
    "\n",
    "#triple quotes ignore all special characters inside\n",
    "print('''i'm a \n",
    "\"string\"''')\n",
    "\n",
    "#separator and end can change print behavior\n",
    "import time\n",
    "print(\"tur\", end=\"\")\n",
    "time.sleep(3)\n",
    "print(\"duck\", end=\"\")\n",
    "time.sleep(3)\n",
    "print(\"en\", end=\"\\n\\n\")\n",
    "print(\"tur\", \"duck\", \"en\", sep=\"!\")\n",
    "\n",
    "#%s string, %d digit, %f float\n",
    "currentweather = \"washingtonian\"\n",
    "currenttime = 1\n",
    "currenthumidity = 7.2343256447\n",
    "print(\"Welcome to Bellingham, the current weather is %s and the current time is %d. Humidity %.1f\" % \n",
    "      (currentweather, currenttime, currenthumidity))"
   ]
  },
  {
   "cell_type": "code",
   "execution_count": null,
   "metadata": {
    "collapsed": true
   },
   "outputs": [],
   "source": [
    "# Collections\n",
    "# [] List : numerically indexed, starting with 0, must contain data of the same type\n",
    "#            0         1         2         3        4\n",
    "mysteryInc=['Velma', 'Scooby', 'Daphne', 'Shaggy', 'Fred']\n",
    "# getting the first element\n",
    "print(mysteryInc[0])\n",
    "# get a slice\n",
    "print(mysteryInc[1:4])\n",
    "# get an element from a slice\n",
    "print(mysteryInc[1:4][1])\n",
    "\n",
    "# () tuple : size is fixed, can contain varying data types\n",
    "mysteryInc2=(mysteryInc, \"The Mystery Machine\", 9000, True)\n",
    "print(mysteryInc2)\n",
    "import time\n",
    "print(time.localtime())\n",
    "\n",
    "# {} maps : lookup table, you define the keys and the values\n",
    "favoriteFoods={'Fred':'burger', 'Daphne':'lasagna', 'Scooby':'literally everything'}\n",
    "print(favoriteFoods)\n",
    "print(favoriteFoods['Fred'])\n",
    "\n",
    "\n"
   ]
  }
 ],
 "metadata": {
  "kernelspec": {
   "display_name": "Python 3",
   "language": "python",
   "name": "python3"
  },
  "language_info": {
   "codemirror_mode": {
    "name": "ipython",
    "version": 3
   },
   "file_extension": ".py",
   "mimetype": "text/x-python",
   "name": "python",
   "nbconvert_exporter": "python",
   "pygments_lexer": "ipython3",
   "version": "3.6.0"
  }
 },
 "nbformat": 4,
 "nbformat_minor": 2
}
