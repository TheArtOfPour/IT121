{
 "cells": [
  {
   "cell_type": "code",
   "execution_count": 46,
   "metadata": {
    "collapsed": false
   },
   "outputs": [
    {
     "name": "stdout",
     "output_type": "stream",
     "text": [
      "7\n"
     ]
    }
   ],
   "source": [
    "#1) What is 3 + 5 * 2 - 6?\n",
    "print(3 + 5 * 2 - 6)"
   ]
  },
  {
   "cell_type": "code",
   "execution_count": 47,
   "metadata": {
    "collapsed": false
   },
   "outputs": [
    {
     "name": "stdout",
     "output_type": "stream",
     "text": [
      "3 * 5 = 15\n"
     ]
    }
   ],
   "source": [
    "#2) Write a python program that multiplies 3 * 5 and prints the result. (Can be done in 1 line.)\n",
    "print(\"3 * 5 = %d\" % (3 * 5))"
   ]
  },
  {
   "cell_type": "code",
   "execution_count": 48,
   "metadata": {
    "collapsed": false
   },
   "outputs": [
    {
     "name": "stdout",
     "output_type": "stream",
     "text": [
      "1337\n"
     ]
    }
   ],
   "source": [
    "#3) Write a python program that assigns a number to a variable and prints the variable. \n",
    "# (Can be done in 2 lines.)\n",
    "variable = 1337\n",
    "print(variable)"
   ]
  },
  {
   "cell_type": "code",
   "execution_count": 49,
   "metadata": {
    "collapsed": false
   },
   "outputs": [
    {
     "name": "stdout",
     "output_type": "stream",
     "text": [
      "What is Beethoven doing now?\n",
      "...\n",
      "...\n",
      "DE-composing.\n"
     ]
    },
    {
     "data": {
      "text/plain": [
       "'\\nWhat could one do to fix the syntax error and have the four lines print properly?\\n  a. Remove the double-quotes.\\n  b. Replace the double-quotes with single-quotes.\\n  c. Add # to the front of the last three lines.\\n  d. Replace each double-quote with three single quotes. << CORRECT\\n'"
      ]
     },
     "execution_count": 49,
     "metadata": {},
     "output_type": "execute_result"
    }
   ],
   "source": [
    "#4) The following python program generates a syntax error.\n",
    "\n",
    "print ('''What is Beethoven doing now?\n",
    "...\n",
    "...\n",
    "DE-composing.''')\n",
    "       \n",
    "'''\n",
    "What could one do to fix the syntax error and have the four lines print properly?\n",
    "  a. Remove the double-quotes.\n",
    "  b. Replace the double-quotes with single-quotes.\n",
    "  c. Add # to the front of the last three lines.\n",
    "  d. Replace each double-quote with three single quotes. << CORRECT\n",
    "'''"
   ]
  },
  {
   "cell_type": "code",
   "execution_count": 50,
   "metadata": {
    "collapsed": false
   },
   "outputs": [
    {
     "name": "stdout",
     "output_type": "stream",
     "text": [
      "John said, \"I'd tell you a UDP joke but you might not get it.\"\n"
     ]
    }
   ],
   "source": [
    "#5) Write a python print statement that prints the following \n",
    "# including the quotes and apostrophes:\n",
    "\n",
    "print('John said, \"I\\'d tell you a UDP joke but you might not get it.\"')"
   ]
  },
  {
   "cell_type": "code",
   "execution_count": 51,
   "metadata": {
    "collapsed": false
   },
   "outputs": [
    {
     "name": "stdout",
     "output_type": "stream",
     "text": [
      "Picard\n"
     ]
    }
   ],
   "source": [
    "#6) Given the following list:\n",
    "# captains=['Kirk','Picard','Janeway','Archer']\n",
    "# Write a python print statement that uses the list to print Picard.\n",
    "captains=['Kirk','Picard','Janeway','Archer']\n",
    "print(captains[1])"
   ]
  },
  {
   "cell_type": "code",
   "execution_count": 52,
   "metadata": {
    "collapsed": false
   },
   "outputs": [
    {
     "name": "stdout",
     "output_type": "stream",
     "text": [
      "['Kirk', 'Picard', 'Janeway', 'Archer', 'Pike']\n"
     ]
    }
   ],
   "source": [
    "#7) Given the following list:\n",
    "# captains=['Kirk','Picard','Janeway','Archer']\n",
    "# Write a python print statement that adds Pike to the list.\n",
    "captains=['Kirk','Picard','Janeway','Archer']\n",
    "captains.append(\"Pike\")\n",
    "print(captains)"
   ]
  },
  {
   "cell_type": "code",
   "execution_count": 53,
   "metadata": {
    "collapsed": false
   },
   "outputs": [
    {
     "name": "stdout",
     "output_type": "stream",
     "text": [
      "['Kirk', 'Picard', 'Janeway', 'Archer']\n"
     ]
    }
   ],
   "source": [
    "#8) Given the following list:\n",
    "# captains=['Kirk','Picard','Riker','Janeway','Archer']\n",
    "# Write a python print statement that removes Riker from the list.\n",
    "captains=['Kirk','Picard','Riker','Janeway','Archer']\n",
    "del captains[2]\n",
    "print(captains)"
   ]
  },
  {
   "cell_type": "code",
   "execution_count": 54,
   "metadata": {
    "collapsed": false
   },
   "outputs": [
    {
     "name": "stdout",
     "output_type": "stream",
     "text": [
      "The engineer's first name is Montgomery.\n"
     ]
    }
   ],
   "source": [
    "#9) Given the following map:\n",
    "names={'Kirk' : 'James',\n",
    "              'Spock' : '',\n",
    "              'McCoy' : 'Leonard',\n",
    "              'Scott' : 'Montgomery',\n",
    "              'Uhura' : 'Nyota',\n",
    "              'Checkov': 'Pavel'}\n",
    "# Write a python print statement that uses the names map to print the following:\n",
    "# The engineer's first name is Montgomery.\n",
    "print(\"The engineer's first name is %s.\" % names['Scott'])"
   ]
  },
  {
   "cell_type": "code",
   "execution_count": 55,
   "metadata": {
    "collapsed": false
   },
   "outputs": [
    {
     "name": "stdout",
     "output_type": "stream",
     "text": [
      "{'Kirk': 'James', 'Spock': '', 'McCoy': 'Leonard', 'Scott': 'Montgomery', 'Uhura': 'Nyota', 'Checkov': 'Pavel', 'Sulu': 'Hikaru'}\n"
     ]
    }
   ],
   "source": [
    "#10) Given the following map:\n",
    "names={'Kirk' : 'James',\n",
    "              'Spock' : '',\n",
    "              'McCoy' : 'Leonard',\n",
    "              'Scott' : 'Montgomery',\n",
    "              'Uhura' : 'Nyota',\n",
    "              'Checkov': 'Pavel'}\n",
    "# Write a python statement that adds 'Sulu':'Hikaru' to the names map.\n",
    "names['Sulu'] = 'Hikaru'\n",
    "print(names)"
   ]
  },
  {
   "cell_type": "code",
   "execution_count": 56,
   "metadata": {
    "collapsed": false
   },
   "outputs": [
    {
     "name": "stdout",
     "output_type": "stream",
     "text": [
      "{'Kirk': 'James', 'McCoy': 'Leonard', 'Scott': 'Montgomery', 'Uhura': 'Nyota', 'Checkov': 'Pavel'}\n"
     ]
    }
   ],
   "source": [
    "#11) Given the following map:\n",
    "names={'Kirk' : 'James',\n",
    "              'Spock' : '',\n",
    "              'McCoy' : 'Leonard',\n",
    "              'Scott' : 'Montgomery',\n",
    "              'Uhura' : 'Nyota',\n",
    "              'Checkov': 'Pavel'}\n",
    "#Write a python statement that removes Spock from the names map.\n",
    "del names['Spock']\n",
    "print(names)"
   ]
  },
  {
   "cell_type": "code",
   "execution_count": 57,
   "metadata": {
    "collapsed": true
   },
   "outputs": [],
   "source": [
    "# 12) Write a python program that draws a square using the turtle module.\n",
    "from ipyturtle import Turtle\n",
    "t = Turtle(fixed=False, width=320, height=320)\n",
    "t"
   ]
  },
  {
   "cell_type": "code",
   "execution_count": 58,
   "metadata": {
    "collapsed": true
   },
   "outputs": [],
   "source": [
    "squareSize = 50\n",
    "t.forward(squareSize)\n",
    "t.left(90)\n",
    "t.forward(squareSize)\n",
    "t.left(90)\n",
    "t.forward(squareSize)\n",
    "t.left(90)\n",
    "t.forward(squareSize)\n",
    "t.left(90)"
   ]
  },
  {
   "cell_type": "code",
   "execution_count": 60,
   "metadata": {
    "collapsed": false
   },
   "outputs": [
    {
     "name": "stdout",
     "output_type": "stream",
     "text": [
      "B\n"
     ]
    }
   ],
   "source": [
    "#13) Given the following python program that has a syntax error:\n",
    "\n",
    "score=88\n",
    "\n",
    "if score >= 90:\n",
    "  print (\"A\")\n",
    "elif score >= 80:\n",
    "  print (\"B\")\n",
    "elif score >= 70:\n",
    "  print (\"C\")\n",
    "elif score >= 60:\n",
    "  print (\"D\")\n",
    "else:\n",
    "  print (\"Try again\")\n",
    "\n",
    "# Enter the line you corrected that allows the program to run.\n",
    "\n",
    "# elsif score >= 80:  ->  elif score >= 80:"
   ]
  },
  {
   "cell_type": "code",
   "execution_count": 62,
   "metadata": {
    "collapsed": false
   },
   "outputs": [
    {
     "name": "stdout",
     "output_type": "stream",
     "text": [
      "C\n"
     ]
    }
   ],
   "source": [
    "#14) Given the following python program that converts scores to \n",
    "# letter grades using the standard 90+ is an A, 80+ is a B, etc.:\n",
    "score=70\n",
    "\n",
    "if score >= 90:\n",
    "  print (\"A\")\n",
    "elif score >= 80:\n",
    "  print (\"B\")\n",
    "elif score >= 70:\n",
    "  print (\"C\")\n",
    "elif score >= 60:\n",
    "  print (\"D\")\n",
    "else:\n",
    "  print (\"Try again\")\n",
    "\n",
    "#A score of 70 should cause the program to print a C but when the \n",
    "#program runs it prints a D. \n",
    "#Enter the line you corrected that allows the program to convert \n",
    "#scores to letters properly.\n",
    "\n",
    "# elif score > 70:   ->   elif score >= 70:"
   ]
  },
  {
   "cell_type": "code",
   "execution_count": 64,
   "metadata": {
    "collapsed": false
   },
   "outputs": [
    {
     "name": "stdout",
     "output_type": "stream",
     "text": [
      "B\n"
     ]
    }
   ],
   "source": [
    "#15) Given the following python program that converts scores to letter grades using the \n",
    "#standard 90+ is an A, 80+ is a B, etc.:\n",
    "\n",
    "score=88\n",
    "\n",
    "if score >= 90:\n",
    "  print (\"A\")\n",
    "elif score >= 80:\n",
    "  print (\"B\")\n",
    "elif score >= 70:\n",
    "  print (\"C\")\n",
    "elif score >= 60:\n",
    "  print (\"D\")\n",
    "else:\n",
    "  print (\"Try again\")\n",
    "\n",
    "# With a score of 88 the program should print a B, but it prints B, C, and D. \n",
    "# How would you change the program so it functions correctly.\n",
    "\n",
    "# change the second, third and forth if's to elif's"
   ]
  },
  {
   "cell_type": "code",
   "execution_count": 68,
   "metadata": {
    "collapsed": false
   },
   "outputs": [],
   "source": [
    "#16) Given the following python program:\n",
    "\n",
    "tShirtPriceDollars = 40\n",
    "\n",
    "if tShirtPriceDollars >= 50:\n",
    "    print (\"I call that getting swindled and pimped.\")\n",
    "    print (\"I call that getting tricked by bizzz-ness.\")\n",
    "\n",
    "# Both print statements should only print if the t-shirtPrice is 50 or more. \n",
    "#Why does the second print statement print no matter what the price is? \n",
    "#And what would you do to fix it?\n",
    "\n",
    "# Indentation is off for the second print statement. \n",
    "# Tab it in so it is part of the if block"
   ]
  },
  {
   "cell_type": "code",
   "execution_count": 72,
   "metadata": {
    "collapsed": false
   },
   "outputs": [
    {
     "name": "stdout",
     "output_type": "stream",
     "text": [
      "We put our hands up like the ceiling can't hold us.\n"
     ]
    },
    {
     "data": {
      "text/plain": [
       "'\\nThe print statement executes when (select all that apply)\\na. The first condition is true and the second condition is false. << CORRECT\\nb. The first condition is false and the second condition is true. << CORRECT\\nc. Neither conditions are true. << NO\\nd. Both conditions are true. << CORRECT\\n'"
      ]
     },
     "execution_count": 72,
     "metadata": {},
     "output_type": "execute_result"
    }
   ],
   "source": [
    "#17) Given the following python program:\n",
    "this = \"the momento\"\n",
    "tonight = \"the knight\"\n",
    "if this == \"the moment\" or tonight == \"the night\":\n",
    "    print (\"We put our hands up like the ceiling can\\'t hold us.\")\n",
    "\n",
    "'''\n",
    "The print statement executes when (select all that apply)\n",
    "a. The first condition is true and the second condition is false. << CORRECT\n",
    "b. The first condition is false and the second condition is true. << CORRECT\n",
    "c. Neither conditions are true. << NO\n",
    "d. Both conditions are true. << CORRECT\n",
    "'''"
   ]
  },
  {
   "cell_type": "code",
   "execution_count": null,
   "metadata": {
    "collapsed": true
   },
   "outputs": [],
   "source": [
    "#18) Given the following python program:\n",
    "\n",
    "if time >= bar_closing and youFeelLike == fallingDown:\n",
    "    print (\"I\\'ll carry you home... \")\n",
    "    print (\"Toni-i-i-ight... we are you-u-ung...\")\n",
    "\n",
    "'''\n",
    "The print statements execute when (select all that apply)\n",
    "a. The first condition is true and the second condition is false.\n",
    "b. The first condition is false and the second condition is true.\n",
    "c. Neither conditions are true.\n",
    "d. Both conditions are true.  << CORRECT\n",
    "'''"
   ]
  },
  {
   "cell_type": "code",
   "execution_count": 73,
   "metadata": {
    "collapsed": false
   },
   "outputs": [
    {
     "name": "stdout",
     "output_type": "stream",
     "text": [
      "127 < 77\n"
     ]
    },
    {
     "data": {
      "text/plain": [
       "'\\nWhat prints?\\na. 127 > 77 \\nb. 127 < 77 \\nc. 77 > 127\\nd. 77 < 127\\n'"
      ]
     },
     "execution_count": 73,
     "metadata": {},
     "output_type": "execute_result"
    }
   ],
   "source": [
    "#19) Given the following python program where stringOne contains \"127\" \n",
    "#and stringTwo contains \"77\":\n",
    "stringOne = \"127\"\n",
    "stringTwo = \"77\"\n",
    "\n",
    "if stringOne > stringTwo:\n",
    "    print (\"%s > %s\" % (stringOne,stringTwo))\n",
    "if stringOne < stringTwo:\n",
    "    print (\"%s < %s\" % (stringOne,stringTwo))\n",
    "\n",
    "'''\n",
    "What prints?\n",
    "a. 127 > 77 \n",
    "b. 127 < 77 << CORRECT\n",
    "c. 77 > 127\n",
    "d. 77 < 127\n",
    "'''"
   ]
  },
  {
   "cell_type": "code",
   "execution_count": 78,
   "metadata": {
    "collapsed": false
   },
   "outputs": [
    {
     "name": "stdout",
     "output_type": "stream",
     "text": [
      "True\n",
      "False\n"
     ]
    }
   ],
   "source": [
    "print(\"127\" < \"77\")\n",
    "print(127 < 77)"
   ]
  },
  {
   "cell_type": "code",
   "execution_count": 74,
   "metadata": {
    "collapsed": false
   },
   "outputs": [
    {
     "name": "stdout",
     "output_type": "stream",
     "text": [
      "127 > 77\n"
     ]
    },
    {
     "data": {
      "text/plain": [
       "'\\nWhat prints?\\na. 127 > 77 << CORRECT\\nb. 127 < 77\\nc. 77 > 127\\nd. 77 < 127\\n'"
      ]
     },
     "execution_count": 74,
     "metadata": {},
     "output_type": "execute_result"
    }
   ],
   "source": [
    "#20) Given the following python program where integerOne contains 127 \n",
    "# and integerTwo contains 77:\n",
    "integerOne = 127\n",
    "integerTwo = 77\n",
    "\n",
    "if integerOne > integerTwo:\n",
    "    print (\"%s > %s\" % (integerOne,integerTwo))\n",
    "if integerOne < integerTwo:\n",
    "    print (\"%s < %s\" % (integerOne,integerTwo))\n",
    "\n",
    "'''\n",
    "What prints?\n",
    "a. 127 > 77 << CORRECT\n",
    "b. 127 < 77\n",
    "c. 77 > 127\n",
    "d. 77 < 127\n",
    "'''"
   ]
  }
 ],
 "metadata": {
  "kernelspec": {
   "display_name": "Python 3",
   "language": "python",
   "name": "python3"
  },
  "language_info": {
   "codemirror_mode": {
    "name": "ipython",
    "version": 3
   },
   "file_extension": ".py",
   "mimetype": "text/x-python",
   "name": "python",
   "nbconvert_exporter": "python",
   "pygments_lexer": "ipython3",
   "version": "3.6.0"
  },
  "widgets": {
   "state": {
    "891b66db25414746979bbfe29a40fea1": {
     "views": [
      {
       "cell_index": 11
      }
     ]
    }
   },
   "version": "1.2.0"
  }
 },
 "nbformat": 4,
 "nbformat_minor": 2
}
