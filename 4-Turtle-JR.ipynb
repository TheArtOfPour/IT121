{
 "cells": [
  {
   "cell_type": "code",
   "execution_count": 41,
   "metadata": {
    "collapsed": false
   },
   "outputs": [],
   "source": [
    "from ipyturtle import Turtle\n",
    "t = Turtle(fixed=False, width=320, height=320)\n",
    "t"
   ]
  },
  {
   "cell_type": "code",
   "execution_count": 42,
   "metadata": {
    "collapsed": false
   },
   "outputs": [],
   "source": [
    "# J\n",
    "t.penup()\n",
    "t.forward(100)\n",
    "t.left(90)\n",
    "t.forward(150)\n",
    "t.left(180)\n",
    "t.pendown()\n",
    "t.forward(100)\n",
    "t.right(180)\n",
    "t.forward(50)\n",
    "t.left(90)\n",
    "t.forward(70)\n",
    "for i in range(180):\n",
    "    t.right(1)\n",
    "    t.forward(0.5)\n",
    "\n",
    "# move to new position\n",
    "t.penup()\n",
    "t.right(90)\n",
    "t.forward(125)\n",
    "t.pendown()\n",
    "\n",
    "# R\n",
    "t.right(90)\n",
    "t.forward(100)\n",
    "t.right(180)\n",
    "t.forward(100)\n",
    "t.right(90)\n",
    "for i in range(180):\n",
    "    t.right(1)\n",
    "    t.forward(0.5)\n",
    "t.left(135)\n",
    "t.forward(75)"
   ]
  },
  {
   "cell_type": "code",
   "execution_count": null,
   "metadata": {
    "collapsed": true
   },
   "outputs": [],
   "source": []
  }
 ],
 "metadata": {
  "kernelspec": {
   "display_name": "Python 3",
   "language": "python",
   "name": "python3"
  },
  "language_info": {
   "codemirror_mode": {
    "name": "ipython",
    "version": 3
   },
   "file_extension": ".py",
   "mimetype": "text/x-python",
   "name": "python",
   "nbconvert_exporter": "python",
   "pygments_lexer": "ipython3",
   "version": "3.6.0"
  },
  "widgets": {
   "state": {
    "a2f92d97b63e48bab03a91fd398ef024": {
     "views": [
      {
       "cell_index": 0
      }
     ]
    }
   },
   "version": "1.2.0"
  }
 },
 "nbformat": 4,
 "nbformat_minor": 2
}
