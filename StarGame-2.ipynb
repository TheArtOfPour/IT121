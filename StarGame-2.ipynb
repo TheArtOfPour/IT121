{
 "cells": [
  {
   "cell_type": "code",
   "execution_count": 9,
   "metadata": {
    "collapsed": false
   },
   "outputs": [
    {
     "name": "stdout",
     "output_type": "stream",
     "text": [
      "Firing Phaser from -26.0,193.0 at angle SE\r\n",
      "Firing Phaser from 174.0,193.0 at angle SE\r\n",
      "Firing Phaser from 374.0,193.0 at angle SE\r\n",
      "Firing Phaser from 574.0,193.0 at angle SE\r\n",
      "Firing Phaser from 774.0,193.0 at angle SE\r\n"
     ]
    }
   ],
   "source": [
    "%%python\n",
    "\n",
    "from tkinter import *\n",
    "import time\n",
    "\n",
    "# make the tk window\n",
    "tk = Tk()\n",
    "\n",
    "# set a title\n",
    "tk.title(\"StarGame\")\n",
    "\n",
    "# make the window resizable\n",
    "tk.resizable(0, 0)\n",
    "\n",
    "# put the window on top\n",
    "tk.wm_attributes(\"-topmost\", 1)\n",
    "\n",
    "# create a canvas\n",
    "canvas = Canvas(tk, width=900, height=700, bd=0, bg=\"black\", highlightthickness=0)\n",
    "\n",
    "# put the canvas in the tk window\n",
    "canvas.pack()\n",
    "\n",
    "# initialize our window\n",
    "tk.update()\n",
    "\n",
    "\n",
    "# ship class\n",
    "class Ship:\n",
    "    def __init__(self, canvas, image, x, y):\n",
    "        self.canvas = canvas\n",
    "        self.id = canvas.create_image(x, y, anchor=NW, image=image)\n",
    "    def fly_NE(self):\n",
    "        self.canvas.move(self.id, 1, -1)\n",
    "    def fly_E(self):\n",
    "        self.canvas.move(self.id, 1, 0)\n",
    "    def firePhaser(self, x, y, angle):\n",
    "        print(\"Firing Phaser from %s,%s at angle %s\" % (x, y, angle))\n",
    "        lineID = self.canvas.create_line(x, y, x+500, y+500, fill=\"red\", width=5)\n",
    "        return lineID\n",
    "        \n",
    "# falcon\n",
    "falcon_image = PhotoImage(file=\"assets/falcon.gif\")\n",
    "Falcon = Ship(canvas, falcon_image, 200, 600)\n",
    "\n",
    "# enterprise\n",
    "enterprise_image = PhotoImage(file=\"assets/enterprise.gif\")\n",
    "Enterprise = Ship(canvas, enterprise_image, -1000, 10)\n",
    "\n",
    "# main game loop\n",
    "count = 0\n",
    "phaserCount = 0\n",
    "while True:\n",
    "    count += 1\n",
    "    if count > 1000:\n",
    "        break\n",
    "        \n",
    "    # fly the Falcon NE\n",
    "    Falcon.fly_NE()\n",
    "    \n",
    "    # get falcon position\n",
    "    pos = Falcon.canvas.coords(Falcon.id)\n",
    "    # wrap the falcon if it goes off the edge of the canvas\n",
    "    if pos[0] > 900:\n",
    "        Falcon.canvas.move(Falcon.id, -750, 750)\n",
    "        \n",
    "    \n",
    "    # fly the Enterprise E\n",
    "    Enterprise.fly_E()\n",
    "    \n",
    "    # get enterprise position\n",
    "    pos = Enterprise.canvas.coords(Enterprise.id)\n",
    "    if pos[0]%200 == 0:\n",
    "        lineID = Enterprise.firePhaser(pos[0]+774, pos[1]+183, \"SE\")\n",
    "        phaserCount = 25\n",
    "    if phaserCount == 0:\n",
    "        try:\n",
    "            Enterprise.canvas.delete(lineID)\n",
    "        except:\n",
    "            pass\n",
    "    if phaserCount > 0:\n",
    "        phaserCount -= 1\n",
    "    \n",
    "    #tk refresh screen\n",
    "    tk.update_idletasks()\n",
    "    tk.update()\n",
    "    \n",
    "    # frame rate\n",
    "    time.sleep(0.001)\n",
    "    "
   ]
  },
  {
   "cell_type": "code",
   "execution_count": null,
   "metadata": {
    "collapsed": true
   },
   "outputs": [],
   "source": []
  }
 ],
 "metadata": {
  "kernelspec": {
   "display_name": "Python 3",
   "language": "python",
   "name": "python3"
  },
  "language_info": {
   "codemirror_mode": {
    "name": "ipython",
    "version": 3
   },
   "file_extension": ".py",
   "mimetype": "text/x-python",
   "name": "python",
   "nbconvert_exporter": "python",
   "pygments_lexer": "ipython3",
   "version": "3.6.0"
  }
 },
 "nbformat": 4,
 "nbformat_minor": 2
}
