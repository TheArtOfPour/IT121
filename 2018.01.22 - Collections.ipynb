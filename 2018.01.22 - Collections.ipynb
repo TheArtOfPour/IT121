{
 "cells": [
  {
   "cell_type": "code",
   "execution_count": 10,
   "metadata": {
    "collapsed": false
   },
   "outputs": [
    {
     "name": "stdout",
     "output_type": "stream",
     "text": [
      "time.struct_time(tm_year=2018, tm_mon=1, tm_mday=22, tm_hour=13, tm_min=38, tm_sec=1, tm_wday=0, tm_yday=22, tm_isdst=0)\n",
      "['bacon', 'bacon', 'bacon']\n",
      "\n",
      "\n",
      "5\n",
      "o\n",
      "4\n"
     ]
    }
   ],
   "source": [
    "#tuple - mixed types, immutable, can't be changed\n",
    "import time\n",
    "print(time.localtime())\n",
    "\n",
    "#lists - same type, can be changed\n",
    "grocery_list = [\"tomatoes\", \"eggs\", \"bacon\", \"bacon\", \"bacon\"]\n",
    "print(grocery_list[2:5])\n",
    "\n",
    "#maps/dictionaries - you provide the key and the value\n",
    "cookbook = {\n",
    "    \"pizza\" : [\"dough\", \"cheese\", \"sauce\", \"bacon\"],\n",
    "    \"ramen\" : \"money\",\n",
    "    \"pie\" : 3.1415927\n",
    "}\n",
    "print(\"\\n\")\n",
    "print(len(cookbook[\"pizza\"][0]))\n",
    "print(cookbook[\"pizza\"][0][1])\n",
    "print(len(cookbook[\"pizza\"]))\n"
   ]
  },
  {
   "cell_type": "code",
   "execution_count": 15,
   "metadata": {
    "collapsed": false
   },
   "outputs": [
    {
     "name": "stdout",
     "output_type": "stream",
     "text": [
      "What's your favorite food?cookies\n",
      "What's another favorite food?ice cream\n",
      "But really, what's your favorite food?bacon\n",
      "cookies\n",
      "['cookies', 'ice cream', 'bacon']\n"
     ]
    }
   ],
   "source": [
    "fav_foods = []\n",
    "fav_food = input(\"What's your favorite food?\")\n",
    "fav_foods.append(fav_food)\n",
    "\n",
    "fav_foods.append(input(\"What's another favorite food?\"))\n",
    "fav_foods.append(input(\"But really, what's your favorite food?\"))\n",
    "\n",
    "print(fav_food)\n",
    "print(fav_foods)"
   ]
  },
  {
   "cell_type": "code",
   "execution_count": 18,
   "metadata": {
    "collapsed": false,
    "scrolled": true
   },
   "outputs": [
    {
     "name": "stdout",
     "output_type": "stream",
     "text": [
      "What's your name?Kevin\n",
      "What's your favorite food?bacon\n",
      "What's your name?Justin\n",
      "What's your favorite food?sushi\n",
      "Who's food secrets would you like to know?Justin\n",
      "Justin's favorite food is sushi, disgusting!\n",
      "{'Kevin': 'bacon'}\n"
     ]
    }
   ],
   "source": [
    "fav_foods = {}\n",
    "name = input(\"What's your name?\")\n",
    "fav_food = input(\"What's your favorite food?\")\n",
    "fav_foods[name] = fav_food\n",
    "\n",
    "name = input(\"What's your name?\")\n",
    "fav_food = input(\"What's your favorite food?\")\n",
    "fav_food = fav_food.rstrip()\n",
    "fav_foods[name] = fav_food\n",
    "\n",
    "lookup = input(\"Who's food secrets would you like to know?\")\n",
    "\n",
    "print(\"%s's favorite food is %s, disgusting!\" % (lookup, fav_foods[lookup]))\n",
    "\n",
    "del fav_foods[lookup]\n",
    "\n",
    "print(fav_foods)"
   ]
  }
 ],
 "metadata": {
  "kernelspec": {
   "display_name": "Python 3",
   "language": "python",
   "name": "python3"
  },
  "language_info": {
   "codemirror_mode": {
    "name": "ipython",
    "version": 3
   },
   "file_extension": ".py",
   "mimetype": "text/x-python",
   "name": "python",
   "nbconvert_exporter": "python",
   "pygments_lexer": "ipython3",
   "version": "3.6.0"
  }
 },
 "nbformat": 4,
 "nbformat_minor": 2
}
