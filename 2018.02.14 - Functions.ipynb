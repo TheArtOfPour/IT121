{
 "cells": [
  {
   "cell_type": "code",
   "execution_count": null,
   "metadata": {
    "collapsed": false
   },
   "outputs": [],
   "source": [
    "# print is a simple function that does not return anything\n",
    "print(\"parameter 1\", \"parameter 2\")\n",
    "\n",
    "# input is like print but returns user input\n",
    "inputString = input(\"prompt\")"
   ]
  },
  {
   "cell_type": "code",
   "execution_count": 2,
   "metadata": {
    "collapsed": false
   },
   "outputs": [
    {
     "name": "stdout",
     "output_type": "stream",
     "text": [
      "How many friends do you have?15\n",
      "Acquantences?3000\n",
      "Mortal enemies?9001\n",
      "We're going to need 7530.500000 Valentines, costing $75.31 (95.64€)\n",
      "How many friends do you have?1\n",
      "Acquantences?1\n",
      "Mortal enemies?1\n",
      "We're going to need 3.500000 Valentines, costing $0.04 (0.04€)\n",
      "How many friends do you have?999999999999999999999999999999999999999999999999999999999999999999999999999999999999999999999999999999999999999999999999999999999999999999999999999999999999999999999999999999999999999999999999999999999999999999999999999999999999999999999999999999999999999999999\n",
      "Acquantences?0\n",
      "Mortal enemies?0\n",
      "We're going to need 1999999999999999857547681040733515073753478641623153224463562961402940190709054988015492682882276552884948779539095127050864586233002245134357428718762445554209708921491609358759288994086416534767263294334755723897091779949617923739887142153550856217846978969600.000000 Valentines, costing $19999999999999998575476810407335150737534786416231532244635629614029401907090549880154926828822765528849487795390951270508645862330022451343574287187624455542097089214916093587592889940864165347672632943347557238970917799496179237398871421535508562178469789696.00 (25399999999999997644611806875797979304047720052728607208588647845698143922343558408086826550584492922603123604748780615885161969345077455879128713222824671155097175496001841480127661311109417362248870656155592787696251483508317197156460626120024164994511798272.00€)\n",
      "How many friends do you have?0\n",
      "Awwwwwwwwwww... you do now...\n"
     ]
    }
   ],
   "source": [
    "def getNumberOfValentines(friends, acquantences, enemies):\n",
    "    return (2*friends) + acquantences + (0.5*enemies)\n",
    "\n",
    "def getCostOfValentines(valentines):\n",
    "    price = 0.01\n",
    "    exchange_rate = 1.27\n",
    "    cost_usd = price*valentines\n",
    "    cost_euro = cost_usd*exchange_rate\n",
    "    return (cost_usd, cost_euro,)    \n",
    "\n",
    "while True:\n",
    "    number_of_friends = int(input(\"How many friends do you have?\"))\n",
    "    if number_of_friends == 0:\n",
    "        print(\"Awwwwwwwwwww... you do now...\")\n",
    "        break\n",
    "    number_of_acquantences = int(input(\"Acquantences?\"))\n",
    "    number_of_enemies = int(input(\"Mortal enemies?\"))\n",
    "    # get number functions returns an integer\n",
    "    number_of_valentines = getNumberOfValentines(\n",
    "        number_of_friends, number_of_acquantences, number_of_enemies)\n",
    "    \n",
    "    # get cost function returns 2 numbers in a tuple\n",
    "    # we unpack that tuple into 2 variables (usd, euros)\n",
    "    usd, euros = getCostOfValentines(number_of_valentines)\n",
    "    print(\"We're going to need %.1f Valentines, costing $%.2f (%.2f€)\" \n",
    "          % (number_of_valentines, usd, euros))\n",
    "        "
   ]
  },
  {
   "cell_type": "code",
   "execution_count": 3,
   "metadata": {
    "collapsed": false
   },
   "outputs": [
    {
     "name": "stdout",
     "output_type": "stream",
     "text": [
      "Score: 77 = Grade: C\n",
      "Score: 88 = Grade: B\n"
     ]
    }
   ],
   "source": [
    "def gradeTranslator(score):\n",
    "    if score >= 90:\n",
    "        return \"A\"\n",
    "    elif score >= 80:\n",
    "        return \"B\"\n",
    "    elif score >= 70:\n",
    "        return \"C\"\n",
    "    elif score >= 60:\n",
    "        return \"D\"\n",
    "    else:\n",
    "        return \"F\"\n",
    "\n",
    "print (\"Score: 77 = Grade: %s\" % (gradeTranslator(77)))\n",
    "print (\"Score: 88 = Grade: %s\" % (gradeTranslator(88)))"
   ]
  },
  {
   "cell_type": "code",
   "execution_count": 6,
   "metadata": {
    "collapsed": false
   },
   "outputs": [
    {
     "name": "stdout",
     "output_type": "stream",
     "text": [
      "To use this command line utility run 'valentines --number_of_friends'\n"
     ]
    }
   ],
   "source": [
    "def info():\n",
    "    print(\"To use this command line utility run 'valentines --number_of_friends'\")\n",
    "\n",
    "info()"
   ]
  }
 ],
 "metadata": {
  "kernelspec": {
   "display_name": "Python 3",
   "language": "python",
   "name": "python3"
  },
  "language_info": {
   "codemirror_mode": {
    "name": "ipython",
    "version": 3
   },
   "file_extension": ".py",
   "mimetype": "text/x-python",
   "name": "python",
   "nbconvert_exporter": "python",
   "pygments_lexer": "ipython3",
   "version": "3.6.0"
  }
 },
 "nbformat": 4,
 "nbformat_minor": 2
}
